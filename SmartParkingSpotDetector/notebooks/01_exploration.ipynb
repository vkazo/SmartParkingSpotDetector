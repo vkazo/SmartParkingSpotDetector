# Smart Parking Spot Detector – Data Exploration

from ultralytics import YOLO
import matplotlib.pyplot as plt
import os, cv2, glob

data_path = '/content/datasets/AerialCars'
print('Dataset path:', data_path)

images = glob.glob(os.path.join(data_path, '*.jpg'))[:5]
for img_path in images:
    img = cv2.imread(img_path)
    plt.imshow(cv2.cvtColor(img, cv2.COLOR_BGR2RGB))
    plt.axis('off')
    plt.show()
